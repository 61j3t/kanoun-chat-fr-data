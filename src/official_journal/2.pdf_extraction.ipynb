{
 "cells": [
  {
   "cell_type": "markdown",
   "metadata": {},
   "source": [
    "# **Text Extraction From PDFs using `pytesseract`**\n",
    "\n",
    "---\n"
   ]
  },
  {
   "cell_type": "code",
   "execution_count": null,
   "metadata": {},
   "outputs": [],
   "source": [
    "import os\n",
    "import json\n",
    "import pytesseract\n",
    "from pdf2image import convert_from_path\n",
    "\n",
    "\n",
    "def pdf_to_json(pdf_folder, output_folder, tesseract_cmd):\n",
    "    pytesseract.pytesseract.tesseract_cmd = tesseract_cmd\n",
    "\n",
    "    if not os.path.exists(output_folder):\n",
    "        os.makedirs(output_folder)\n",
    "\n",
    "    pdf_files = sorted([f for f in os.listdir(pdf_folder) if f.endswith(\".pdf\")])\n",
    "\n",
    "    for pdf_file in pdf_files:\n",
    "        json_file_name = os.path.splitext(pdf_file)[0] + \".json\"\n",
    "        json_path = os.path.join(output_folder, json_file_name)\n",
    "\n",
    "        if os.path.exists(json_path):\n",
    "            print(f\"Skipping {pdf_file}\")\n",
    "            continue\n",
    "\n",
    "        pdf_path = os.path.join(pdf_folder, pdf_file)\n",
    "        images = convert_from_path(pdf_path)\n",
    "        pages_text = {}\n",
    "\n",
    "        for i, image in enumerate(images):\n",
    "            text = pytesseract.image_to_string(image)\n",
    "            pages_text[int(i + 1)] = text  # Ensuring keys are integers\n",
    "\n",
    "        with open(json_path, \"w\", encoding=\"utf-8\") as json_file:\n",
    "            json.dump(pages_text, json_file, ensure_ascii=False, indent=4)\n",
    "\n",
    "\n",
    "pdf_to_json(\n",
    "    \"../../data/official_journal/1.pdf_data\",\n",
    "    \"../../data/official_journal/2.json_data\",\n",
    "    tesseract_cmd=\"/opt/homebrew/bin/tesseract\",\n",
    ")"
   ]
  },
  {
   "cell_type": "markdown",
   "metadata": {},
   "source": [
    "# **Turn The JSON Files To a CSV File For Import in The PostgrSQL Database**\n",
    "\n",
    "---\n"
   ]
  },
  {
   "cell_type": "code",
   "execution_count": 11,
   "metadata": {},
   "outputs": [
    {
     "name": "stdout",
     "output_type": "stream",
     "text": [
      "Data has been written and cleaned in ../../data/official_journal/db.csv\n"
     ]
    }
   ],
   "source": [
    "import os\n",
    "import json\n",
    "import csv\n",
    "\n",
    "# Path to the folder containing JSON files\n",
    "folder_path = \"../../data/official_journal/2.json_data\"\n",
    "\n",
    "# Path for the CSV output file\n",
    "csv_file_path = \"../../data/official_journal/db.csv\"\n",
    "\n",
    "# Open the CSV file in write mode\n",
    "with open(csv_file_path, mode=\"w\", newline=\"\", encoding=\"utf-8\") as csv_file:\n",
    "    csv_writer = csv.writer(csv_file, quotechar='\"', quoting=csv.QUOTE_MINIMAL)\n",
    "\n",
    "    # Write the header row to the CSV\n",
    "    csv_writer.writerow([\"year\", \"number\", \"page\", \"content\"])\n",
    "\n",
    "    # Get a sorted list of filenames based on year and number (ascending order)\n",
    "    sorted_filenames = sorted(\n",
    "        os.listdir(folder_path),\n",
    "        key=lambda filename: (int(filename[1:5]), int(filename[5:8])),\n",
    "    )\n",
    "\n",
    "    # Process each JSON file\n",
    "    for filename in sorted_filenames:\n",
    "        if filename.endswith(\".json\"):\n",
    "            with open(os.path.join(folder_path, filename), \"r\") as file:\n",
    "                data = json.load(file)\n",
    "\n",
    "            # Extract year and number from the filename\n",
    "            year = int(filename[1:5])\n",
    "            number = int(filename[5:8])\n",
    "\n",
    "            # Sort pages within the current file by page number\n",
    "            sorted_pages = sorted(data.items(), key=lambda x: int(x[0]))\n",
    "\n",
    "            # Write each page's content to the CSV, cleaning content field\n",
    "            for page, content in sorted_pages:\n",
    "                cleaned_content = content.replace(\n",
    "                    \"\\n\", \" \"\n",
    "                )  # Clean newlines from content\n",
    "                csv_writer.writerow([year, number, page, cleaned_content])\n",
    "\n",
    "print(f\"Data has been written and cleaned in {csv_file_path}\")"
   ]
  },
  {
   "cell_type": "code",
   "execution_count": null,
   "metadata": {},
   "outputs": [],
   "source": []
  }
 ],
 "metadata": {
  "kernelspec": {
   "display_name": "base",
   "language": "python",
   "name": "python3"
  },
  "language_info": {
   "codemirror_mode": {
    "name": "ipython",
    "version": 3
   },
   "file_extension": ".py",
   "mimetype": "text/x-python",
   "name": "python",
   "nbconvert_exporter": "python",
   "pygments_lexer": "ipython3",
   "version": "3.12.8"
  }
 },
 "nbformat": 4,
 "nbformat_minor": 2
}
