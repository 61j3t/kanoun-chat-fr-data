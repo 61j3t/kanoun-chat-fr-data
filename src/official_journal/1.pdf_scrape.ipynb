{
 "cells": [
  {
   "cell_type": "markdown",
   "metadata": {},
   "source": [
    "# Scrape PDF from [joradp.dz](https://www.joradp.dz)\n",
    "---"
   ]
  },
  {
   "cell_type": "code",
   "execution_count": null,
   "metadata": {},
   "outputs": [],
   "source": [
    "import os\n",
    "import requests\n",
    "\n",
    "def download_pdfs():\n",
    "    base_url = \"https://www.joradp.dz/FTP/jo-francais/{}/F{}{}.pdf\"\n",
    "    os.makedirs(\"1.pdf_data\", exist_ok=True)\n",
    "    for year in range(1962, 2025):\n",
    "        for number in range(1, 1000):\n",
    "            formatted_number = str(number).zfill(3)\n",
    "            url = base_url.format(year, year, formatted_number)\n",
    "            response = requests.get(url)\n",
    "            if response.status_code == 200:\n",
    "                with open(os.path.join(\"1.pdf_data\", f\"F{year}{formatted_number}.pdf\"), \"wb\") as file:\n",
    "                    file.write(response.content)\n",
    "                print(f\"Downloaded: F{year}{formatted_number}.pdf\")\n",
    "            else:\n",
    "                print(f\"No PDF found for: F{year}{formatted_number}.pdf, moving to next year\")\n",
    "                break\n",
    "\n",
    "download_pdfs()\n"
   ]
  }
 ],
 "metadata": {
  "kernelspec": {
   "display_name": "base",
   "language": "python",
   "name": "python3"
  },
  "language_info": {
   "codemirror_mode": {
    "name": "ipython",
    "version": 3
   },
   "file_extension": ".py",
   "mimetype": "text/x-python",
   "name": "python",
   "nbconvert_exporter": "python",
   "pygments_lexer": "ipython3",
   "version": "3.11.7"
  }
 },
 "nbformat": 4,
 "nbformat_minor": 2
}
